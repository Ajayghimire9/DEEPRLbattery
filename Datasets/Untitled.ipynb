{
 "cells": [
  {
   "cell_type": "code",
   "execution_count": 13,
   "id": "de44fbd1",
   "metadata": {},
   "outputs": [
    {
     "name": "stderr",
     "output_type": "stream",
     "text": [
      "WARNING: Ignoring invalid distribution -atplotlib (c:\\users\\ajayg\\anaconda3\\lib\\site-packages)\n",
      "ERROR: Invalid requirement: '=='\n",
      "WARNING: Ignoring invalid distribution -atplotlib (c:\\users\\ajayg\\anaconda3\\lib\\site-packages)\n",
      "WARNING: Ignoring invalid distribution -atplotlib (c:\\users\\ajayg\\anaconda3\\lib\\site-packages)\n",
      "WARNING: Ignoring invalid distribution -atplotlib (c:\\users\\ajayg\\anaconda3\\lib\\site-packages)\n"
     ]
    },
    {
     "name": "stdout",
     "output_type": "stream",
     "text": [
      "Requirement already satisfied: keras in c:\\users\\ajayg\\anaconda3\\lib\\site-packages (2.12.0)\n"
     ]
    },
    {
     "name": "stderr",
     "output_type": "stream",
     "text": [
      "WARNING: Ignoring invalid distribution -atplotlib (c:\\users\\ajayg\\anaconda3\\lib\\site-packages)\n",
      "WARNING: Ignoring invalid distribution -atplotlib (c:\\users\\ajayg\\anaconda3\\lib\\site-packages)\n",
      "WARNING: Ignoring invalid distribution -atplotlib (c:\\users\\ajayg\\anaconda3\\lib\\site-packages)\n",
      "WARNING: Ignoring invalid distribution -atplotlib (c:\\users\\ajayg\\anaconda3\\lib\\site-packages)\n",
      "WARNING: Ignoring invalid distribution -atplotlib (c:\\users\\ajayg\\anaconda3\\lib\\site-packages)\n",
      "WARNING: Ignoring invalid distribution -atplotlib (c:\\users\\ajayg\\anaconda3\\lib\\site-packages)\n"
     ]
    },
    {
     "name": "stdout",
     "output_type": "stream",
     "text": [
      "Requirement already satisfied: keras-rl2 in c:\\users\\ajayg\\anaconda3\\lib\\site-packages (1.0.5)\n",
      "Requirement already satisfied: tensorflow in c:\\users\\ajayg\\anaconda3\\lib\\site-packages (from keras-rl2) (2.12.0)\n",
      "Requirement already satisfied: tensorflow-intel==2.12.0 in c:\\users\\ajayg\\anaconda3\\lib\\site-packages (from tensorflow->keras-rl2) (2.12.0)\n",
      "Requirement already satisfied: astunparse>=1.6.0 in c:\\users\\ajayg\\anaconda3\\lib\\site-packages (from tensorflow-intel==2.12.0->tensorflow->keras-rl2) (1.6.3)\n",
      "Requirement already satisfied: jax>=0.3.15 in c:\\users\\ajayg\\anaconda3\\lib\\site-packages (from tensorflow-intel==2.12.0->tensorflow->keras-rl2) (0.4.12)\n",
      "Requirement already satisfied: google-pasta>=0.1.1 in c:\\users\\ajayg\\anaconda3\\lib\\site-packages (from tensorflow-intel==2.12.0->tensorflow->keras-rl2) (0.2.0)\n",
      "Requirement already satisfied: typing-extensions>=3.6.6 in c:\\users\\ajayg\\anaconda3\\lib\\site-packages (from tensorflow-intel==2.12.0->tensorflow->keras-rl2) (4.4.0)\n",
      "Requirement already satisfied: keras<2.13,>=2.12.0 in c:\\users\\ajayg\\anaconda3\\lib\\site-packages (from tensorflow-intel==2.12.0->tensorflow->keras-rl2) (2.12.0)\n",
      "Requirement already satisfied: wrapt<1.15,>=1.11.0 in c:\\users\\ajayg\\anaconda3\\lib\\site-packages (from tensorflow-intel==2.12.0->tensorflow->keras-rl2) (1.14.1)\n",
      "Requirement already satisfied: protobuf!=4.21.0,!=4.21.1,!=4.21.2,!=4.21.3,!=4.21.4,!=4.21.5,<5.0.0dev,>=3.20.3 in c:\\users\\ajayg\\anaconda3\\lib\\site-packages (from tensorflow-intel==2.12.0->tensorflow->keras-rl2) (4.23.2)\n",
      "Requirement already satisfied: opt-einsum>=2.3.2 in c:\\users\\ajayg\\anaconda3\\lib\\site-packages (from tensorflow-intel==2.12.0->tensorflow->keras-rl2) (3.3.0)\n",
      "Requirement already satisfied: setuptools in c:\\users\\ajayg\\anaconda3\\lib\\site-packages (from tensorflow-intel==2.12.0->tensorflow->keras-rl2) (65.6.3)\n",
      "Requirement already satisfied: grpcio<2.0,>=1.24.3 in c:\\users\\ajayg\\anaconda3\\lib\\site-packages (from tensorflow-intel==2.12.0->tensorflow->keras-rl2) (1.54.2)\n",
      "Requirement already satisfied: tensorboard<2.13,>=2.12 in c:\\users\\ajayg\\anaconda3\\lib\\site-packages (from tensorflow-intel==2.12.0->tensorflow->keras-rl2) (2.12.3)\n",
      "Requirement already satisfied: termcolor>=1.1.0 in c:\\users\\ajayg\\anaconda3\\lib\\site-packages (from tensorflow-intel==2.12.0->tensorflow->keras-rl2) (2.3.0)\n",
      "Requirement already satisfied: numpy<1.24,>=1.22 in c:\\users\\ajayg\\anaconda3\\lib\\site-packages (from tensorflow-intel==2.12.0->tensorflow->keras-rl2) (1.23.5)\n",
      "Requirement already satisfied: six>=1.12.0 in c:\\users\\ajayg\\anaconda3\\lib\\site-packages (from tensorflow-intel==2.12.0->tensorflow->keras-rl2) (1.16.0)\n",
      "Requirement already satisfied: tensorflow-estimator<2.13,>=2.12.0 in c:\\users\\ajayg\\anaconda3\\lib\\site-packages (from tensorflow-intel==2.12.0->tensorflow->keras-rl2) (2.12.0)\n",
      "Requirement already satisfied: gast<=0.4.0,>=0.2.1 in c:\\users\\ajayg\\anaconda3\\lib\\site-packages (from tensorflow-intel==2.12.0->tensorflow->keras-rl2) (0.4.0)\n",
      "Requirement already satisfied: h5py>=2.9.0 in c:\\users\\ajayg\\anaconda3\\lib\\site-packages (from tensorflow-intel==2.12.0->tensorflow->keras-rl2) (3.7.0)\n",
      "Requirement already satisfied: libclang>=13.0.0 in c:\\users\\ajayg\\anaconda3\\lib\\site-packages (from tensorflow-intel==2.12.0->tensorflow->keras-rl2) (16.0.0)\n",
      "Requirement already satisfied: absl-py>=1.0.0 in c:\\users\\ajayg\\anaconda3\\lib\\site-packages (from tensorflow-intel==2.12.0->tensorflow->keras-rl2) (1.4.0)\n",
      "Requirement already satisfied: flatbuffers>=2.0 in c:\\users\\ajayg\\anaconda3\\lib\\site-packages (from tensorflow-intel==2.12.0->tensorflow->keras-rl2) (23.5.26)\n",
      "Requirement already satisfied: packaging in c:\\users\\ajayg\\anaconda3\\lib\\site-packages (from tensorflow-intel==2.12.0->tensorflow->keras-rl2) (22.0)\n",
      "Requirement already satisfied: tensorflow-io-gcs-filesystem>=0.23.1 in c:\\users\\ajayg\\anaconda3\\lib\\site-packages (from tensorflow-intel==2.12.0->tensorflow->keras-rl2) (0.31.0)\n",
      "Requirement already satisfied: wheel<1.0,>=0.23.0 in c:\\users\\ajayg\\anaconda3\\lib\\site-packages (from astunparse>=1.6.0->tensorflow-intel==2.12.0->tensorflow->keras-rl2) (0.38.4)\n",
      "Requirement already satisfied: scipy>=1.7 in c:\\users\\ajayg\\anaconda3\\lib\\site-packages (from jax>=0.3.15->tensorflow-intel==2.12.0->tensorflow->keras-rl2) (1.9.3)\n",
      "Requirement already satisfied: ml-dtypes>=0.1.0 in c:\\users\\ajayg\\anaconda3\\lib\\site-packages (from jax>=0.3.15->tensorflow-intel==2.12.0->tensorflow->keras-rl2) (0.2.0)\n",
      "Requirement already satisfied: requests<3,>=2.21.0 in c:\\users\\ajayg\\anaconda3\\lib\\site-packages (from tensorboard<2.13,>=2.12->tensorflow-intel==2.12.0->tensorflow->keras-rl2) (2.28.1)\n",
      "Requirement already satisfied: tensorboard-data-server<0.8.0,>=0.7.0 in c:\\users\\ajayg\\anaconda3\\lib\\site-packages (from tensorboard<2.13,>=2.12->tensorflow-intel==2.12.0->tensorflow->keras-rl2) (0.7.0)\n",
      "Requirement already satisfied: google-auth<3,>=1.6.3 in c:\\users\\ajayg\\anaconda3\\lib\\site-packages (from tensorboard<2.13,>=2.12->tensorflow-intel==2.12.0->tensorflow->keras-rl2) (2.19.1)\n",
      "Requirement already satisfied: markdown>=2.6.8 in c:\\users\\ajayg\\anaconda3\\lib\\site-packages (from tensorboard<2.13,>=2.12->tensorflow-intel==2.12.0->tensorflow->keras-rl2) (3.4.1)\n",
      "Requirement already satisfied: werkzeug>=1.0.1 in c:\\users\\ajayg\\anaconda3\\lib\\site-packages (from tensorboard<2.13,>=2.12->tensorflow-intel==2.12.0->tensorflow->keras-rl2) (2.2.2)\n",
      "Requirement already satisfied: google-auth-oauthlib<1.1,>=0.5 in c:\\users\\ajayg\\anaconda3\\lib\\site-packages (from tensorboard<2.13,>=2.12->tensorflow-intel==2.12.0->tensorflow->keras-rl2) (1.0.0)\n",
      "Requirement already satisfied: pyasn1-modules>=0.2.1 in c:\\users\\ajayg\\anaconda3\\lib\\site-packages (from google-auth<3,>=1.6.3->tensorboard<2.13,>=2.12->tensorflow-intel==2.12.0->tensorflow->keras-rl2) (0.2.8)\n",
      "Requirement already satisfied: urllib3<2.0 in c:\\users\\ajayg\\anaconda3\\lib\\site-packages (from google-auth<3,>=1.6.3->tensorboard<2.13,>=2.12->tensorflow-intel==2.12.0->tensorflow->keras-rl2) (1.26.14)\n",
      "Requirement already satisfied: cachetools<6.0,>=2.0.0 in c:\\users\\ajayg\\anaconda3\\lib\\site-packages (from google-auth<3,>=1.6.3->tensorboard<2.13,>=2.12->tensorflow-intel==2.12.0->tensorflow->keras-rl2) (5.3.1)\n",
      "Requirement already satisfied: rsa<5,>=3.1.4 in c:\\users\\ajayg\\anaconda3\\lib\\site-packages (from google-auth<3,>=1.6.3->tensorboard<2.13,>=2.12->tensorflow-intel==2.12.0->tensorflow->keras-rl2) (4.9)\n",
      "Requirement already satisfied: requests-oauthlib>=0.7.0 in c:\\users\\ajayg\\anaconda3\\lib\\site-packages (from google-auth-oauthlib<1.1,>=0.5->tensorboard<2.13,>=2.12->tensorflow-intel==2.12.0->tensorflow->keras-rl2) (1.3.1)\n",
      "Requirement already satisfied: charset-normalizer<3,>=2 in c:\\users\\ajayg\\anaconda3\\lib\\site-packages (from requests<3,>=2.21.0->tensorboard<2.13,>=2.12->tensorflow-intel==2.12.0->tensorflow->keras-rl2) (2.0.4)\n",
      "Requirement already satisfied: idna<4,>=2.5 in c:\\users\\ajayg\\anaconda3\\lib\\site-packages (from requests<3,>=2.21.0->tensorboard<2.13,>=2.12->tensorflow-intel==2.12.0->tensorflow->keras-rl2) (3.4)\n",
      "Requirement already satisfied: certifi>=2017.4.17 in c:\\users\\ajayg\\anaconda3\\lib\\site-packages (from requests<3,>=2.21.0->tensorboard<2.13,>=2.12->tensorflow-intel==2.12.0->tensorflow->keras-rl2) (2022.12.7)\n",
      "Requirement already satisfied: MarkupSafe>=2.1.1 in c:\\users\\ajayg\\anaconda3\\lib\\site-packages (from werkzeug>=1.0.1->tensorboard<2.13,>=2.12->tensorflow-intel==2.12.0->tensorflow->keras-rl2) (2.1.1)\n",
      "Requirement already satisfied: pyasn1<0.5.0,>=0.4.6 in c:\\users\\ajayg\\anaconda3\\lib\\site-packages (from pyasn1-modules>=0.2.1->google-auth<3,>=1.6.3->tensorboard<2.13,>=2.12->tensorflow-intel==2.12.0->tensorflow->keras-rl2) (0.4.8)\n",
      "Requirement already satisfied: oauthlib>=3.0.0 in c:\\users\\ajayg\\anaconda3\\lib\\site-packages (from requests-oauthlib>=0.7.0->google-auth-oauthlib<1.1,>=0.5->tensorboard<2.13,>=2.12->tensorflow-intel==2.12.0->tensorflow->keras-rl2) (3.2.2)\n"
     ]
    },
    {
     "name": "stderr",
     "output_type": "stream",
     "text": [
      "WARNING: Ignoring invalid distribution -atplotlib (c:\\users\\ajayg\\anaconda3\\lib\\site-packages)\n",
      "WARNING: Ignoring invalid distribution -atplotlib (c:\\users\\ajayg\\anaconda3\\lib\\site-packages)\n",
      "WARNING: Ignoring invalid distribution -atplotlib (c:\\users\\ajayg\\anaconda3\\lib\\site-packages)\n",
      "WARNING: Ignoring invalid distribution -atplotlib (c:\\users\\ajayg\\anaconda3\\lib\\site-packages)\n",
      "WARNING: Ignoring invalid distribution -atplotlib (c:\\users\\ajayg\\anaconda3\\lib\\site-packages)\n",
      "WARNING: Ignoring invalid distribution -atplotlib (c:\\users\\ajayg\\anaconda3\\lib\\site-packages)\n"
     ]
    }
   ],
   "source": [
    "!pip install tensorflow == 2.3.0\n",
    "!pip install keras\n",
    "!pip install keras-rl2"
   ]
  },
  {
   "cell_type": "code",
   "execution_count": null,
   "id": "0e351793",
   "metadata": {},
   "outputs": [],
   "source": []
  }
 ],
 "metadata": {
  "kernelspec": {
   "display_name": "Python 3 (ipykernel)",
   "language": "python",
   "name": "python3"
  },
  "language_info": {
   "codemirror_mode": {
    "name": "ipython",
    "version": 3
   },
   "file_extension": ".py",
   "mimetype": "text/x-python",
   "name": "python",
   "nbconvert_exporter": "python",
   "pygments_lexer": "ipython3",
   "version": "3.10.9"
  }
 },
 "nbformat": 4,
 "nbformat_minor": 5
}
